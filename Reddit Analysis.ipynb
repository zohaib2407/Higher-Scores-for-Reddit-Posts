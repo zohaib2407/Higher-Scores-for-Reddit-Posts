{
 "cells": [
  {
   "cell_type": "markdown",
   "metadata": {},
   "source": [
    "# Load Relevant Libraries"
   ]
  },
  {
   "cell_type": "code",
   "execution_count": 1,
   "metadata": {},
   "outputs": [
    {
     "name": "stderr",
     "output_type": "stream",
     "text": [
      "/tmp/ipykernel_9477/4205886303.py:25: UserWarning: DelftStack\n",
      "  warnings.warn('DelftStack')\n"
     ]
    }
   ],
   "source": [
    "# For Spark and SparkSQL\n",
    "import pyspark\n",
    "from pyspark.sql.types import StructType,StructField, StringType, IntegerType,BooleanType,DoubleType,DateType\n",
    "import pandas as pd\n",
    "from pyspark.sql.functions import col,when,count,udf,length,isnan,monotonically_increasing_id\n",
    "from pyspark.sql.functions import sum as _sum\n",
    "from pyspark.sql import DataFrameStatFunctions as statFunc\n",
    "\n",
    "# For data manipulation or checking the file system for extant files\n",
    "from datetime import datetime\n",
    "import numpy as np\n",
    "import os\n",
    "import shutil\n",
    "\n",
    "# For data exploration\n",
    "from pyspark_dist_explore import Histogram, hist, distplot, pandas_histogram\n",
    "import matplotlib.pyplot as plt\n",
    "import seaborn as sns\n",
    "\n",
    "# Needed to show values in non-scientific format.\n",
    "np.set_printoptions(suppress=True)\n",
    "pd.set_option('precision', 4)\n",
    "import warnings\n",
    "warnings.filterwarnings('ignore', '.*do not.*', )\n",
    "warnings.warn('DelftStack')\n",
    "warnings.warn('Do not show this message')"
   ]
  },
  {
   "cell_type": "markdown",
   "metadata": {},
   "source": [
    " **Making sure that this instance of Spark runs on all the cores on the machine.**"
   ]
  },
  {
   "cell_type": "code",
   "execution_count": 2,
   "metadata": {
    "scrolled": true
   },
   "outputs": [
    {
     "name": "stderr",
     "output_type": "stream",
     "text": [
      "WARNING: An illegal reflective access operation has occurred\n",
      "WARNING: Illegal reflective access by org.apache.spark.unsafe.Platform (file:/home/kingleozohaib2407/miniconda3/lib/python3.9/site-packages/pyspark/jars/spark-unsafe_2.12-3.2.1.jar) to constructor java.nio.DirectByteBuffer(long,int)\n",
      "WARNING: Please consider reporting this to the maintainers of org.apache.spark.unsafe.Platform\n",
      "WARNING: Use --illegal-access=warn to enable warnings of further illegal reflective access operations\n",
      "WARNING: All illegal access operations will be denied in a future release\n",
      "Using Spark's default log4j profile: org/apache/spark/log4j-defaults.properties\n",
      "Setting default log level to \"WARN\".\n",
      "To adjust logging level use sc.setLogLevel(newLevel). For SparkR, use setLogLevel(newLevel).\n",
      "22/03/30 17:56:52 WARN NativeCodeLoader: Unable to load native-hadoop library for your platform... using builtin-java classes where applicable\n"
     ]
    }
   ],
   "source": [
    "from pyspark import SparkContext, SparkConf\n",
    "from pyspark.sql import SparkSession\n",
    "#spark=SparkSession.builder.getOrCreate()\n",
    "sc = pyspark.SparkContext(\"local[*]\", \"project\", )\n",
    "spark = SparkSession(sc)"
   ]
  },
  {
   "cell_type": "markdown",
   "metadata": {},
   "source": [
    "# Data Loading\n",
    "\n",
    "## Convert to parquet file format\n",
    "Reading the data from a very large CSV file will be incredibly slow, especially for a system based off on a hard disk drive. We convert the data format to parquet, which loads around a thousand times faster."
   ]
  },
  {
   "cell_type": "code",
   "execution_count": 6,
   "metadata": {},
   "outputs": [],
   "source": [
    "if not os.path.exists(\"/home/kingleozohaib2407/spark-project/par.parq/\"):\n",
    "    # Quotes are escaped using quotes itself, and the schema is inferred on first run.\n",
    "    df = spark.read.format(\"csv\").\\\n",
    "        options(header=True, sep=\"|\",\n",
    "                inferSchema=True, escape='\"').\\\n",
    "        load(\"full_data.csv\")\n",
    "    # Written as a compressed data file using Facebook's zstd to save space.\n",
    "    df.write.parquet(\"par.parq\", compression=\"zstd\")"
   ]
  },
  {
   "cell_type": "markdown",
   "metadata": {},
   "source": [
    "All further analysis is done on the parquet file."
   ]
  },
  {
   "cell_type": "code",
   "execution_count": 7,
   "metadata": {
    "scrolled": false
   },
   "outputs": [
    {
     "name": "stderr",
     "output_type": "stream",
     "text": [
      "                                                                                \r"
     ]
    },
    {
     "data": {
      "text/plain": [
       "DataFrame[name: string, author: string, removed_by_category: string, allow_live_comments: string, top_awarded_type: string, is_video: int, edited: string, is_self: string, author_flair_text: string, thumbnail: string, suggested_sort: string, link_flair_background_color: string, hidden: double, can_gild: string, wls: string, subreddit_type: string, num_comments: int, total_awards_received: int, media_only: string, link_flair_richtext: string, upvote_ratio: double, author_flair_css_class: string, all_awardings: string, discussion_type: string, score: string, quarantine: int, created_utc: string, spoiler: int, category: string, id: string, num_crossposts: string, send_replies: int, domain: string, gilded: int, media: string, thumbnail_height: string, author_flair_text_color: string, permalink: string, author_flair_template_id: string, locked: string, link_flair_text: string, no_follow: int, whitelist_status: string, link_flair_css_class: string, media_embed: string, subreddit_subscribers: string, secure_media_embed: string, gildings: string, treatment_tags: string, content_categories: string, subreddit: string, secure_media: string, is_reddit_media_domain: int, title: string, is_meta: int, distinguished: string, archived: int, contest_mode: int, link_flair_text_color: string, thumbnail_width: int, author_created_utc: int, pwls: string, hide_score: string, pinned: int, is_robot_indexable: int, is_crosspostable: int, subreddit_id: string, is_original_content: int, stickied: int, parent_whitelist_status: string, link_flair_type: string, is_created_from_ads_ui: int, over_18: int, author_flair_background_color: string]"
      ]
     },
     "execution_count": 7,
     "metadata": {},
     "output_type": "execute_result"
    }
   ],
   "source": [
    "df = spark.read.parquet(\"par.parq\")\n",
    "df"
   ]
  },
  {
   "cell_type": "markdown",
   "metadata": {},
   "source": [
    "## Data Cleaning \n",
    "\n",
    "**Here we apply different methodologies to clean the data and bring it into a concise format for further exploration and modelling**"
   ]
  },
  {
   "cell_type": "code",
   "execution_count": 6,
   "metadata": {},
   "outputs": [
    {
     "name": "stderr",
     "output_type": "stream",
     "text": [
      "                                                                                \r"
     ]
    },
    {
     "data": {
      "text/plain": [
       "[Row(author_flair_text_color=None, count=25327057),\n",
       " Row(author_flair_text_color='dark', count=8323468),\n",
       " Row(author_flair_text_color='light', count=467964),\n",
       " Row(author_flair_text_color='{}', count=13),\n",
       " Row(author_flair_text_color='{\\'content\\': \\'&lt;iframe width=\"356\" height=\"200\" src=\"https://www.youtube.com/embed/Br5ayAkgs4g?feature=oembed&amp;enablejsapi=1\" frameborder=\"0\" allow=\"accelerometer; autoplay; clipboard-write; encrypted-media; gyroscope; picture-in-picture\" allowfullscreen&gt;&lt;/iframe&gt;\\', \\'height\\': 200, \\'scrolling\\': False, \\'width\\': 356}', count=1),\n",
       " Row(author_flair_text_color='{\\'content\\': \\'&lt;iframe width=\"356\" height=\"200\" src=\"https://www.youtube.com/embed/PgTgias1alI?feature=oembed&amp;enablejsapi=1\" frameborder=\"0\" allow=\"accelerometer; autoplay; clipboard-write; encrypted-media; gyroscope; picture-in-picture\" allowfullscreen&gt;&lt;/iframe&gt;\\', \\'height\\': 200, \\'scrolling\\': False, \\'width\\': 356}', count=1),\n",
       " Row(author_flair_text_color='{\\'content\\': \\'&lt;iframe width=\"356\" height=\"200\" src=\"https://www.youtube.com/embed/QkMsBiVClOE?feature=oembed&amp;enablejsapi=1\" frameborder=\"0\" allow=\"accelerometer; autoplay; clipboard-write; encrypted-media; gyroscope; picture-in-picture\" allowfullscreen&gt;&lt;/iframe&gt;\\', \\'height\\': 200, \\'scrolling\\': False, \\'width\\': 356}', count=1),\n",
       " Row(author_flair_text_color='{\\'content\\': \\'&lt;iframe width=\"356\" height=\"200\" src=\"https://www.youtube.com/embed/zdGNWgDF-A8?feature=oembed&amp;enablejsapi=1\" frameborder=\"0\" allow=\"accelerometer; autoplay; clipboard-write; encrypted-media; gyroscope; picture-in-picture\" allowfullscreen&gt;&lt;/iframe&gt;\\', \\'height\\': 200, \\'scrolling\\': False, \\'width\\': 356}', count=1),\n",
       " Row(author_flair_text_color='{\\'content\\': \\'&lt;iframe width=\"356\" height=\"200\" src=\"https://www.youtube.com/embed/Hno_dfs6KVU?feature=oembed&amp;enablejsapi=1\" frameborder=\"0\" allow=\"accelerometer; autoplay; clipboard-write; encrypted-media; gyroscope; picture-in-picture\" allowfullscreen&gt;&lt;/iframe&gt;\\', \\'height\\': 200, \\'scrolling\\': False, \\'width\\': 356}', count=1),\n",
       " Row(author_flair_text_color='{\\'content\\': \\'&lt;iframe width=\"356\" height=\"200\" src=\"https://www.youtube.com/embed/tl3EzOOYJsQ?feature=oembed&amp;enablejsapi=1\" frameborder=\"0\" allow=\"accelerometer; autoplay; clipboard-write; encrypted-media; gyroscope; picture-in-picture\" allowfullscreen&gt;&lt;/iframe&gt;\\', \\'height\\': 200, \\'scrolling\\': False, \\'width\\': 356}', count=1)]"
      ]
     },
     "execution_count": 6,
     "metadata": {},
     "output_type": "execute_result"
    }
   ],
   "source": [
    "df.groupBy('author_flair_text_color').count().sort('count', ascending=False).collect()"
   ]
  },
  {
   "cell_type": "markdown",
   "metadata": {},
   "source": [
    "**Keep only columns of interest**"
   ]
  },
  {
   "cell_type": "code",
   "execution_count": 8,
   "metadata": {},
   "outputs": [],
   "source": [
    "col_names = [\n",
    "    \"author\", \"subreddit\", \"score\", \"subreddit_subscribers\", \"over_18\",\n",
    "    \"distinguished\", \"num_crossposts\", \"is_video\", \"num_comments\",\n",
    "    \"is_self\", \"thumbnail\", \"domain\", \"created_utc\", \"is_crosspostable\",\n",
    "    \"is_original_content\", \"total_awards_received\", \"upvote_ratio\",\n",
    "    # Added by Avinash after Zohaib's transfer from R to Python\n",
    "    \"author_flair_background_color\", \"is_created_from_ads_ui\",\n",
    "    \"title\", \"media_embed\"]\n",
    "\n",
    "# Select only the columns specified above\n",
    "df_n = df.select(col_names)"
   ]
  },
  {
   "cell_type": "markdown",
   "metadata": {},
   "source": [
    "**Casting different columns to valid formats**"
   ]
  },
  {
   "cell_type": "code",
   "execution_count": 9,
   "metadata": {},
   "outputs": [],
   "source": [
    "# Change the data types of these columns\n",
    "df_n1 = df_n.\\\n",
    "    withColumn(\"author\",col(\"author\").cast(StringType())) \\\n",
    "   .withColumn(\"subreddit\",col(\"subreddit\").cast(StringType())) \\\n",
    "   .withColumn(\"score\",col(\"score\").cast(IntegerType())) \\\n",
    "   .withColumn(\"subreddit_subscribers\",col(\"subreddit_subscribers\").cast(IntegerType())) \\\n",
    "   .withColumn(\"over_18\",col(\"over_18\").cast(BooleanType())) \\\n",
    "   .withColumn(\"distinguished\",col(\"distinguished\").cast(StringType())) \\\n",
    "   .withColumn(\"num_crossposts\",col(\"num_crossposts\").cast(IntegerType())) \\\n",
    "   .withColumn(\"is_video\",col(\"is_video\").cast(BooleanType())) \\\n",
    "   .withColumn(\"num_comments\",col(\"num_comments\").cast(IntegerType())) \\\n",
    "   .withColumn(\"is_self\",col(\"is_self\").cast(BooleanType())) \\\n",
    "   .withColumn(\"thumbnail\",col(\"thumbnail\").cast(StringType())) \\\n",
    "   .withColumn(\"domain\",col(\"domain\").cast(StringType())) \\\n",
    "   .withColumn(\"is_crosspostable\",col(\"is_crosspostable\").cast(BooleanType())) \\\n",
    "   .withColumn(\"is_original_content\",col(\"is_original_content\").cast(BooleanType())) \\\n",
    "   .withColumn(\"created_utc\",col(\"created_utc\").cast(IntegerType())) \\\n",
    "   .withColumn(\"total_awards_received\",col(\"total_awards_received\").cast(IntegerType())) \\\n",
    "   .withColumn(\"upvote_ratio\",col(\"upvote_ratio\").cast(IntegerType()))"
   ]
  },
  {
   "cell_type": "markdown",
   "metadata": {},
   "source": [
    "## Cleaning more columns\n",
    "\n",
    "When posts are deleted on Reddit, their author names are marked under \"[deleted]\". This will be construed as a common poster across almost every subreddit, which we want to avoid. While coding the data from the JSON file to CSV, we coded these as `null` values."
   ]
  },
  {
   "cell_type": "code",
   "execution_count": 10,
   "metadata": {},
   "outputs": [
    {
     "name": "stderr",
     "output_type": "stream",
     "text": [
      "                                                                                \r"
     ]
    },
    {
     "data": {
      "text/plain": [
       "27773188"
      ]
     },
     "execution_count": 10,
     "metadata": {},
     "output_type": "execute_result"
    }
   ],
   "source": [
    "df_n1 = df_n1.na.drop(subset=[\"author\"])\n",
    "df_n1.count()"
   ]
  },
  {
   "cell_type": "markdown",
   "metadata": {},
   "source": [
    "*_That's around $28$ million records. Let's choose subreddits with at least $353,518$ subscribers - that is, around the top $20\\%$ of all subreddits in the data._*"
   ]
  },
  {
   "cell_type": "code",
   "execution_count": 11,
   "metadata": {},
   "outputs": [
    {
     "name": "stderr",
     "output_type": "stream",
     "text": [
      "                                                                                \r"
     ]
    },
    {
     "data": {
      "text/plain": [
       "5554869"
      ]
     },
     "execution_count": 11,
     "metadata": {},
     "output_type": "execute_result"
    }
   ],
   "source": [
    "# The below variable is to check to see if the quantile makes sense:\n",
    "ss = statFunc(df_n1).approxQuantile( \"subreddit_subscribers\", [0.1,0.2,0.3,0.4,0.5,0.6,0.7,0.8,0.9], 0.01)\n",
    "\n",
    "# Filtering for the minimum subscriber count\n",
    "df_n2 = df_n1.filter(df_n1.subreddit_subscribers>=353518)\n",
    "df_n2.count()"
   ]
  },
  {
   "cell_type": "markdown",
   "metadata": {},
   "source": [
    "*_This brings the record count to under 6 million, which is still a significant amount. The next step is to check the number of non-null columns in the data, and change the columns that are to some other value._*"
   ]
  },
  {
   "cell_type": "code",
   "execution_count": 12,
   "metadata": {},
   "outputs": [
    {
     "name": "stderr",
     "output_type": "stream",
     "text": [
      "                                                                                \r"
     ]
    },
    {
     "data": {
      "text/html": [
       "<div>\n",
       "<style scoped>\n",
       "    .dataframe tbody tr th:only-of-type {\n",
       "        vertical-align: middle;\n",
       "    }\n",
       "\n",
       "    .dataframe tbody tr th {\n",
       "        vertical-align: top;\n",
       "    }\n",
       "\n",
       "    .dataframe thead th {\n",
       "        text-align: right;\n",
       "    }\n",
       "</style>\n",
       "<table border=\"1\" class=\"dataframe\">\n",
       "  <thead>\n",
       "    <tr style=\"text-align: right;\">\n",
       "      <th></th>\n",
       "      <th>author</th>\n",
       "      <th>subreddit</th>\n",
       "      <th>score</th>\n",
       "      <th>subreddit_subscribers</th>\n",
       "      <th>over_18</th>\n",
       "      <th>distinguished</th>\n",
       "      <th>num_crossposts</th>\n",
       "      <th>is_video</th>\n",
       "      <th>num_comments</th>\n",
       "      <th>is_self</th>\n",
       "      <th>...</th>\n",
       "      <th>domain</th>\n",
       "      <th>created_utc</th>\n",
       "      <th>is_crosspostable</th>\n",
       "      <th>is_original_content</th>\n",
       "      <th>total_awards_received</th>\n",
       "      <th>upvote_ratio</th>\n",
       "      <th>author_flair_background_color</th>\n",
       "      <th>is_created_from_ads_ui</th>\n",
       "      <th>title</th>\n",
       "      <th>media_embed</th>\n",
       "    </tr>\n",
       "  </thead>\n",
       "  <tbody>\n",
       "    <tr>\n",
       "      <th>0</th>\n",
       "      <td>5554869</td>\n",
       "      <td>5554869</td>\n",
       "      <td>5554869</td>\n",
       "      <td>5554869</td>\n",
       "      <td>5554869</td>\n",
       "      <td>2228</td>\n",
       "      <td>5554869</td>\n",
       "      <td>5554869</td>\n",
       "      <td>5554869</td>\n",
       "      <td>5554869</td>\n",
       "      <td>...</td>\n",
       "      <td>5554860</td>\n",
       "      <td>5554869</td>\n",
       "      <td>5554869</td>\n",
       "      <td>5554869</td>\n",
       "      <td>5554869</td>\n",
       "      <td>5554869</td>\n",
       "      <td>294996</td>\n",
       "      <td>5554869</td>\n",
       "      <td>5554856</td>\n",
       "      <td>5554869</td>\n",
       "    </tr>\n",
       "  </tbody>\n",
       "</table>\n",
       "<p>1 rows × 21 columns</p>\n",
       "</div>"
      ],
      "text/plain": [
       "    author  subreddit    score  subreddit_subscribers  over_18  distinguished  \\\n",
       "0  5554869    5554869  5554869                5554869  5554869           2228   \n",
       "\n",
       "   num_crossposts  is_video  num_comments  is_self  ...   domain  created_utc  \\\n",
       "0         5554869   5554869       5554869  5554869  ...  5554860      5554869   \n",
       "\n",
       "   is_crosspostable  is_original_content  total_awards_received  upvote_ratio  \\\n",
       "0           5554869              5554869                5554869       5554869   \n",
       "\n",
       "   author_flair_background_color  is_created_from_ads_ui    title  media_embed  \n",
       "0                         294996                 5554869  5554856      5554869  \n",
       "\n",
       "[1 rows x 21 columns]"
      ]
     },
     "execution_count": 12,
     "metadata": {},
     "output_type": "execute_result"
    }
   ],
   "source": [
    "df_n2.select([count(when(col(c).isNotNull() , c)).alias(c) for c in df_n2.columns]).toPandas()"
   ]
  },
  {
   "cell_type": "markdown",
   "metadata": {},
   "source": [
    "*_Looks like only `distinguished` has a limited number of non-null values, making is less useful for modelling. This column can be dropped as so:_*"
   ]
  },
  {
   "cell_type": "code",
   "execution_count": 13,
   "metadata": {},
   "outputs": [],
   "source": [
    "df_n2 = df_n2.drop('distinguished')"
   ]
  },
  {
   "cell_type": "markdown",
   "metadata": {},
   "source": [
    "*_The next step is to start cleaning columns. The `created_utc` column currently shows the number of seconds since the Unix epoch, and to make this useful for modelling, the column needs to be converted to a timestamp, as done so below._*"
   ]
  },
  {
   "cell_type": "code",
   "execution_count": 14,
   "metadata": {},
   "outputs": [],
   "source": [
    "def convert_to_utc(date):\n",
    "    ts = datetime.utcfromtimestamp(date).strftime('%Y-%m-%d %H:%M:%S')\n",
    "    return ts\n",
    "\n",
    "udf_convert_to_utc = udf(lambda x:convert_to_utc(x))\n",
    "df_n3=df_n2.withColumn('created_datetime',udf_convert_to_utc(col(('created_utc')))).select('*')"
   ]
  },
  {
   "cell_type": "markdown",
   "metadata": {},
   "source": [
    "*_An additional filter - a minimum score of $2$ is needed to make sure that posts with positive upvote - downvote values are included, with another minimum requirement that at least **two** other users have liked the post aside from the one that posted the content (i.e. the OP)._*"
   ]
  },
  {
   "cell_type": "code",
   "execution_count": 15,
   "metadata": {
    "scrolled": true
   },
   "outputs": [
    {
     "name": "stderr",
     "output_type": "stream",
     "text": [
      "[Stage 12:======================================================> (39 + 1) / 40]\r"
     ]
    },
    {
     "name": "stdout",
     "output_type": "stream",
     "text": [
      "[0.0, 0.0, 1.0, 2.0, 3.0]\n"
     ]
    },
    {
     "name": "stderr",
     "output_type": "stream",
     "text": [
      "                                                                                \r"
     ]
    }
   ],
   "source": [
    "# Quantile calculation\n",
    "sc = statFunc(df_n3).approxQuantile( \"score\", [0.1,0.2,0.3,0.4,0.5], 0.25)\n",
    "print(sc)\n",
    "\n",
    "# Filtering for a minimum score\n",
    "df_n3 = df_n3.filter(df_n3.score>2)"
   ]
  },
  {
   "cell_type": "markdown",
   "metadata": {},
   "source": [
    "Adding more calculated columns:"
   ]
  },
  {
   "cell_type": "code",
   "execution_count": 16,
   "metadata": {},
   "outputs": [
    {
     "data": {
      "text/plain": [
       "DataFrame[author: string, subreddit: string, score: int, subreddit_subscribers: int, over_18: boolean, num_crossposts: int, is_video: boolean, num_comments: int, is_self: boolean, thumbnail: string, domain: string, created_utc: int, is_crosspostable: boolean, is_original_content: boolean, total_awards_received: int, upvote_ratio: int, author_flair_background_color: string, is_created_from_ads_ui: int, title: string, media_embed: string, created_datetime: string]"
      ]
     },
     "execution_count": 16,
     "metadata": {},
     "output_type": "execute_result"
    }
   ],
   "source": [
    "df_n3"
   ]
  },
  {
   "cell_type": "code",
   "execution_count": 17,
   "metadata": {
    "scrolled": true
   },
   "outputs": [
    {
     "data": {
      "text/plain": [
       "DataFrame[author: string, subreddit: string, score: int, subreddit_subscribers: int, over_18: boolean, num_crossposts: int, is_video: boolean, num_comments: int, is_self: boolean, thumbnail: string, domain: string, created_utc: int, is_crosspostable: boolean, is_original_content: boolean, total_awards_received: int, upvote_ratio: int, author_flair_background_color: string, is_created_from_ads_ui: int, title: string, media_embed: string, created_datetime: string, author_flair: string]"
      ]
     },
     "execution_count": 17,
     "metadata": {},
     "output_type": "execute_result"
    }
   ],
   "source": [
    "df_n3.withColumn(\n",
    "    'author_flair', when(col('author_flair_background_color') == 'transparent', 'transparent').\\\n",
    "    when(col('author_flair_background_color').isNotNull(), 'coloured').\\\n",
    "    otherwise('none'))"
   ]
  },
  {
   "cell_type": "code",
   "execution_count": 18,
   "metadata": {},
   "outputs": [],
   "source": [
    "# Adding a boolean is_thumbnail \n",
    "df_n3 = df_n3.withColumn('is_thumbnail', when(col('thumbnail').isNotNull(), 1).otherwise(0))\n",
    " \n",
    "# Adding a media embedded booelan\n",
    "df_n3 = df_n3.withColumn('is_media_embed', when(col('media_embed')=='{}', 1).otherwise(0))\n",
    "\n",
    "# Changing a ads based UI creation flag\n",
    "df_n3 = df_n3.withColumn(\n",
    "    'is_created_from_ads_ui',\n",
    "    when(col('is_created_from_ads_ui').isNull(), 0).\\\n",
    "    otherwise(col('is_created_from_ads_ui')))\n",
    "\n",
    "# Adding a author flair colour tri-lean?\n",
    "df_n3 = df_n3.withColumn(\n",
    "    'author_flair',\n",
    "    when(col('author_flair_background_color') == 'transparent', 'transparent').\\\n",
    "    when(col('author_flair_background_color').isNotNull(), 'coloured').\\\n",
    "    otherwise('none'))\n",
    "\n",
    "# Adding a number of characters in title column\n",
    "df_n3 = df_n3.withColumn('title_length', length(col('title')))\n",
    "\n",
    "# Drop unused columns\n",
    "df_n3 = df_n3.drop('thumbnail','created_utc', 'title', 'media_embed')"
   ]
  },
  {
   "cell_type": "markdown",
   "metadata": {},
   "source": [
    "Filter for having a minimum number of posts per month i.e. being an *active* subreddit."
   ]
  },
  {
   "cell_type": "code",
   "execution_count": 19,
   "metadata": {},
   "outputs": [
    {
     "name": "stderr",
     "output_type": "stream",
     "text": [
      "                                                                                \r"
     ]
    },
    {
     "data": {
      "text/plain": [
       "2880059"
      ]
     },
     "execution_count": 19,
     "metadata": {},
     "output_type": "execute_result"
    }
   ],
   "source": [
    "# Create the subreddit post count\n",
    "df_n4 = df_n3.groupBy('subreddit').count().select('subreddit', col('count').alias('n'))\n",
    "df_n4 = df_n4.filter(df_n4.n>=8)\n",
    "\n",
    "# Subreddit names, join against post count calculated above\n",
    "subreds = df_n4.select('subreddit')\n",
    "df_n5 = df_n3.join(subreds,df_n4.subreddit==subreds.subreddit,\"leftsemi\")\n",
    "\n",
    "df_n5.count()"
   ]
  },
  {
   "cell_type": "markdown",
   "metadata": {},
   "source": [
    "*_There are around 3 million records in this file, which can be further worked with on Spark. Finally, writing the new data to disk as a parquet file._*"
   ]
  },
  {
   "cell_type": "code",
   "execution_count": 19,
   "metadata": {},
   "outputs": [
    {
     "name": "stderr",
     "output_type": "stream",
     "text": [
      "                                                                                \r"
     ]
    }
   ],
   "source": [
    "# Write data to disk\n",
    "if os.path.exists(\"/home/kingleozohaib2407/spark-project/df_subset.parquet\"):\n",
    "    shutil.rmtree(\"/home/kingleozohaib2407/spark-project/df_subset.parquet\")\n",
    "df_n5.write.parquet(\"/home/kingleozohaib2407/spark-project/df_subset.parquet\", compression=\"zstd\")"
   ]
  },
  {
   "cell_type": "markdown",
   "metadata": {},
   "source": [
    "# Data Exploration\n",
    "\n",
    "Load the data cleaned hereforth into `pandas` and into a new Spark `DataFrame`. `pandas` is used for easier manipulation. Both packages support reading from parquet files directly, and are pretty fast."
   ]
  },
  {
   "cell_type": "code",
   "execution_count": 44,
   "metadata": {},
   "outputs": [],
   "source": [
    "cleaned_df = spark.read.parquet(\"df_subset.parquet\")\n",
    "df_pd = pd.read_parquet(\"df_subset.parquet\")"
   ]
  },
  {
   "cell_type": "markdown",
   "metadata": {},
   "source": [
    "#### Quick head of the data"
   ]
  },
  {
   "cell_type": "code",
   "execution_count": 21,
   "metadata": {},
   "outputs": [
    {
     "data": {
      "text/html": [
       "<div>\n",
       "<style scoped>\n",
       "    .dataframe tbody tr th:only-of-type {\n",
       "        vertical-align: middle;\n",
       "    }\n",
       "\n",
       "    .dataframe tbody tr th {\n",
       "        vertical-align: top;\n",
       "    }\n",
       "\n",
       "    .dataframe thead th {\n",
       "        text-align: right;\n",
       "    }\n",
       "</style>\n",
       "<table border=\"1\" class=\"dataframe\">\n",
       "  <thead>\n",
       "    <tr style=\"text-align: right;\">\n",
       "      <th></th>\n",
       "      <th>author</th>\n",
       "      <th>subreddit</th>\n",
       "      <th>score</th>\n",
       "      <th>subreddit_subscribers</th>\n",
       "      <th>over_18</th>\n",
       "      <th>num_crossposts</th>\n",
       "      <th>is_video</th>\n",
       "      <th>num_comments</th>\n",
       "      <th>is_self</th>\n",
       "      <th>domain</th>\n",
       "      <th>...</th>\n",
       "      <th>is_original_content</th>\n",
       "      <th>total_awards_received</th>\n",
       "      <th>upvote_ratio</th>\n",
       "      <th>author_flair_background_color</th>\n",
       "      <th>is_created_from_ads_ui</th>\n",
       "      <th>created_datetime</th>\n",
       "      <th>is_thumbnail</th>\n",
       "      <th>is_media_embed</th>\n",
       "      <th>author_flair</th>\n",
       "      <th>title_length</th>\n",
       "    </tr>\n",
       "  </thead>\n",
       "  <tbody>\n",
       "    <tr>\n",
       "      <th>0</th>\n",
       "      <td>iChargePerReply</td>\n",
       "      <td>TrueOffMyChest</td>\n",
       "      <td>13</td>\n",
       "      <td>944767</td>\n",
       "      <td>False</td>\n",
       "      <td>0</td>\n",
       "      <td>False</td>\n",
       "      <td>10</td>\n",
       "      <td>True</td>\n",
       "      <td>self.TrueOffMyChest</td>\n",
       "      <td>...</td>\n",
       "      <td>False</td>\n",
       "      <td>0</td>\n",
       "      <td>0</td>\n",
       "      <td>None</td>\n",
       "      <td>0</td>\n",
       "      <td>2021-06-12 20:45:35</td>\n",
       "      <td>1</td>\n",
       "      <td>1</td>\n",
       "      <td>none</td>\n",
       "      <td>95.0</td>\n",
       "    </tr>\n",
       "    <tr>\n",
       "      <th>1</th>\n",
       "      <td>aimeee0</td>\n",
       "      <td>anime</td>\n",
       "      <td>5</td>\n",
       "      <td>2515198</td>\n",
       "      <td>False</td>\n",
       "      <td>0</td>\n",
       "      <td>False</td>\n",
       "      <td>24</td>\n",
       "      <td>True</td>\n",
       "      <td>self.anime</td>\n",
       "      <td>...</td>\n",
       "      <td>False</td>\n",
       "      <td>0</td>\n",
       "      <td>0</td>\n",
       "      <td>#02a9ff</td>\n",
       "      <td>0</td>\n",
       "      <td>2021-06-12 20:56:01</td>\n",
       "      <td>1</td>\n",
       "      <td>1</td>\n",
       "      <td>coloured</td>\n",
       "      <td>55.0</td>\n",
       "    </tr>\n",
       "    <tr>\n",
       "      <th>2</th>\n",
       "      <td>ThrowRA24000</td>\n",
       "      <td>TrueOffMyChest</td>\n",
       "      <td>6</td>\n",
       "      <td>944767</td>\n",
       "      <td>False</td>\n",
       "      <td>0</td>\n",
       "      <td>False</td>\n",
       "      <td>2</td>\n",
       "      <td>True</td>\n",
       "      <td>self.TrueOffMyChest</td>\n",
       "      <td>...</td>\n",
       "      <td>False</td>\n",
       "      <td>0</td>\n",
       "      <td>0</td>\n",
       "      <td>None</td>\n",
       "      <td>0</td>\n",
       "      <td>2021-06-12 20:58:19</td>\n",
       "      <td>1</td>\n",
       "      <td>1</td>\n",
       "      <td>none</td>\n",
       "      <td>56.0</td>\n",
       "    </tr>\n",
       "    <tr>\n",
       "      <th>3</th>\n",
       "      <td>zerofoxgivn</td>\n",
       "      <td>Amateur</td>\n",
       "      <td>3</td>\n",
       "      <td>1120219</td>\n",
       "      <td>True</td>\n",
       "      <td>0</td>\n",
       "      <td>False</td>\n",
       "      <td>1</td>\n",
       "      <td>False</td>\n",
       "      <td>imgur.com</td>\n",
       "      <td>...</td>\n",
       "      <td>False</td>\n",
       "      <td>0</td>\n",
       "      <td>1</td>\n",
       "      <td>None</td>\n",
       "      <td>0</td>\n",
       "      <td>2021-06-12 21:02:44</td>\n",
       "      <td>1</td>\n",
       "      <td>0</td>\n",
       "      <td>none</td>\n",
       "      <td>31.0</td>\n",
       "    </tr>\n",
       "    <tr>\n",
       "      <th>4</th>\n",
       "      <td>PonzuBees</td>\n",
       "      <td>anime</td>\n",
       "      <td>3</td>\n",
       "      <td>2515199</td>\n",
       "      <td>False</td>\n",
       "      <td>0</td>\n",
       "      <td>False</td>\n",
       "      <td>10</td>\n",
       "      <td>True</td>\n",
       "      <td>self.anime</td>\n",
       "      <td>...</td>\n",
       "      <td>False</td>\n",
       "      <td>0</td>\n",
       "      <td>0</td>\n",
       "      <td>None</td>\n",
       "      <td>0</td>\n",
       "      <td>2021-06-12 21:03:16</td>\n",
       "      <td>1</td>\n",
       "      <td>1</td>\n",
       "      <td>none</td>\n",
       "      <td>32.0</td>\n",
       "    </tr>\n",
       "  </tbody>\n",
       "</table>\n",
       "<p>5 rows × 21 columns</p>\n",
       "</div>"
      ],
      "text/plain": [
       "            author       subreddit  score  subreddit_subscribers  over_18  \\\n",
       "0  iChargePerReply  TrueOffMyChest     13                 944767    False   \n",
       "1          aimeee0           anime      5                2515198    False   \n",
       "2     ThrowRA24000  TrueOffMyChest      6                 944767    False   \n",
       "3      zerofoxgivn         Amateur      3                1120219     True   \n",
       "4        PonzuBees           anime      3                2515199    False   \n",
       "\n",
       "   num_crossposts  is_video  num_comments  is_self               domain  ...  \\\n",
       "0               0     False            10     True  self.TrueOffMyChest  ...   \n",
       "1               0     False            24     True           self.anime  ...   \n",
       "2               0     False             2     True  self.TrueOffMyChest  ...   \n",
       "3               0     False             1    False            imgur.com  ...   \n",
       "4               0     False            10     True           self.anime  ...   \n",
       "\n",
       "   is_original_content  total_awards_received  upvote_ratio  \\\n",
       "0                False                      0             0   \n",
       "1                False                      0             0   \n",
       "2                False                      0             0   \n",
       "3                False                      0             1   \n",
       "4                False                      0             0   \n",
       "\n",
       "   author_flair_background_color is_created_from_ads_ui     created_datetime  \\\n",
       "0                           None                      0  2021-06-12 20:45:35   \n",
       "1                        #02a9ff                      0  2021-06-12 20:56:01   \n",
       "2                           None                      0  2021-06-12 20:58:19   \n",
       "3                           None                      0  2021-06-12 21:02:44   \n",
       "4                           None                      0  2021-06-12 21:03:16   \n",
       "\n",
       "  is_thumbnail  is_media_embed  author_flair title_length  \n",
       "0            1               1          none         95.0  \n",
       "1            1               1      coloured         55.0  \n",
       "2            1               1          none         56.0  \n",
       "3            1               0          none         31.0  \n",
       "4            1               1          none         32.0  \n",
       "\n",
       "[5 rows x 21 columns]"
      ]
     },
     "execution_count": 21,
     "metadata": {},
     "output_type": "execute_result"
    }
   ],
   "source": [
    "df_pd.head()"
   ]
  },
  {
   "cell_type": "markdown",
   "metadata": {},
   "source": [
    "## Basic Summary Statistics\n",
    "The $\\mu$, $n$, $\\sigma$, $\\min$, $\\max$ and percentiles, with an additional view of $0.9, 0.95$ and $0.99$."
   ]
  },
  {
   "cell_type": "code",
   "execution_count": 22,
   "metadata": {},
   "outputs": [
    {
     "data": {
      "text/html": [
       "<div>\n",
       "<style scoped>\n",
       "    .dataframe tbody tr th:only-of-type {\n",
       "        vertical-align: middle;\n",
       "    }\n",
       "\n",
       "    .dataframe tbody tr th {\n",
       "        vertical-align: top;\n",
       "    }\n",
       "\n",
       "    .dataframe thead th {\n",
       "        text-align: right;\n",
       "    }\n",
       "</style>\n",
       "<table border=\"1\" class=\"dataframe\">\n",
       "  <thead>\n",
       "    <tr style=\"text-align: right;\">\n",
       "      <th></th>\n",
       "      <th>score</th>\n",
       "      <th>subreddit_subscribers</th>\n",
       "      <th>num_crossposts</th>\n",
       "      <th>num_comments</th>\n",
       "      <th>total_awards_received</th>\n",
       "      <th>upvote_ratio</th>\n",
       "      <th>is_created_from_ads_ui</th>\n",
       "      <th>is_thumbnail</th>\n",
       "      <th>is_media_embed</th>\n",
       "      <th>title_length</th>\n",
       "    </tr>\n",
       "  </thead>\n",
       "  <tbody>\n",
       "    <tr>\n",
       "      <th>count</th>\n",
       "      <td>2.8801e+06</td>\n",
       "      <td>2.8801e+06</td>\n",
       "      <td>2.8801e+06</td>\n",
       "      <td>2.8801e+06</td>\n",
       "      <td>2.8801e+06</td>\n",
       "      <td>2.8801e+06</td>\n",
       "      <td>2880059.0</td>\n",
       "      <td>2880059.0</td>\n",
       "      <td>2.8801e+06</td>\n",
       "      <td>2.8801e+06</td>\n",
       "    </tr>\n",
       "    <tr>\n",
       "      <th>mean</th>\n",
       "      <td>4.5175e+02</td>\n",
       "      <td>4.0523e+06</td>\n",
       "      <td>1.2871e-01</td>\n",
       "      <td>2.4473e+01</td>\n",
       "      <td>8.6548e-01</td>\n",
       "      <td>1.6486e-01</td>\n",
       "      <td>0.0</td>\n",
       "      <td>1.0</td>\n",
       "      <td>9.3709e-01</td>\n",
       "      <td>5.0438e+01</td>\n",
       "    </tr>\n",
       "    <tr>\n",
       "      <th>std</th>\n",
       "      <td>3.0700e+03</td>\n",
       "      <td>7.8505e+06</td>\n",
       "      <td>9.4744e-01</td>\n",
       "      <td>2.5526e+02</td>\n",
       "      <td>1.0125e+01</td>\n",
       "      <td>3.7106e-01</td>\n",
       "      <td>0.0</td>\n",
       "      <td>0.0</td>\n",
       "      <td>2.4279e-01</td>\n",
       "      <td>4.3260e+01</td>\n",
       "    </tr>\n",
       "    <tr>\n",
       "      <th>min</th>\n",
       "      <td>3.0000e+00</td>\n",
       "      <td>3.5352e+05</td>\n",
       "      <td>0.0000e+00</td>\n",
       "      <td>0.0000e+00</td>\n",
       "      <td>0.0000e+00</td>\n",
       "      <td>0.0000e+00</td>\n",
       "      <td>0.0</td>\n",
       "      <td>1.0</td>\n",
       "      <td>0.0000e+00</td>\n",
       "      <td>1.0000e+00</td>\n",
       "    </tr>\n",
       "    <tr>\n",
       "      <th>0%</th>\n",
       "      <td>3.0000e+00</td>\n",
       "      <td>3.5352e+05</td>\n",
       "      <td>0.0000e+00</td>\n",
       "      <td>0.0000e+00</td>\n",
       "      <td>0.0000e+00</td>\n",
       "      <td>0.0000e+00</td>\n",
       "      <td>0.0</td>\n",
       "      <td>1.0</td>\n",
       "      <td>0.0000e+00</td>\n",
       "      <td>1.0000e+00</td>\n",
       "    </tr>\n",
       "    <tr>\n",
       "      <th>25%</th>\n",
       "      <td>7.0000e+00</td>\n",
       "      <td>5.3588e+05</td>\n",
       "      <td>0.0000e+00</td>\n",
       "      <td>2.0000e+00</td>\n",
       "      <td>0.0000e+00</td>\n",
       "      <td>0.0000e+00</td>\n",
       "      <td>0.0</td>\n",
       "      <td>1.0</td>\n",
       "      <td>1.0000e+00</td>\n",
       "      <td>2.3000e+01</td>\n",
       "    </tr>\n",
       "    <tr>\n",
       "      <th>50%</th>\n",
       "      <td>2.2000e+01</td>\n",
       "      <td>9.1814e+05</td>\n",
       "      <td>0.0000e+00</td>\n",
       "      <td>4.0000e+00</td>\n",
       "      <td>0.0000e+00</td>\n",
       "      <td>0.0000e+00</td>\n",
       "      <td>0.0</td>\n",
       "      <td>1.0</td>\n",
       "      <td>1.0000e+00</td>\n",
       "      <td>3.8000e+01</td>\n",
       "    </tr>\n",
       "    <tr>\n",
       "      <th>75%</th>\n",
       "      <td>7.7000e+01</td>\n",
       "      <td>2.5544e+06</td>\n",
       "      <td>0.0000e+00</td>\n",
       "      <td>1.2000e+01</td>\n",
       "      <td>0.0000e+00</td>\n",
       "      <td>0.0000e+00</td>\n",
       "      <td>0.0</td>\n",
       "      <td>1.0</td>\n",
       "      <td>1.0000e+00</td>\n",
       "      <td>6.3000e+01</td>\n",
       "    </tr>\n",
       "    <tr>\n",
       "      <th>90%</th>\n",
       "      <td>3.7100e+02</td>\n",
       "      <td>1.5686e+07</td>\n",
       "      <td>0.0000e+00</td>\n",
       "      <td>3.5000e+01</td>\n",
       "      <td>1.0000e+00</td>\n",
       "      <td>1.0000e+00</td>\n",
       "      <td>0.0</td>\n",
       "      <td>1.0</td>\n",
       "      <td>1.0000e+00</td>\n",
       "      <td>9.9000e+01</td>\n",
       "    </tr>\n",
       "    <tr>\n",
       "      <th>95%</th>\n",
       "      <td>1.2160e+03</td>\n",
       "      <td>2.7497e+07</td>\n",
       "      <td>1.0000e+00</td>\n",
       "      <td>7.5000e+01</td>\n",
       "      <td>2.0000e+00</td>\n",
       "      <td>1.0000e+00</td>\n",
       "      <td>0.0</td>\n",
       "      <td>1.0</td>\n",
       "      <td>1.0000e+00</td>\n",
       "      <td>1.3200e+02</td>\n",
       "    </tr>\n",
       "    <tr>\n",
       "      <th>99%</th>\n",
       "      <td>9.6784e+03</td>\n",
       "      <td>3.2996e+07</td>\n",
       "      <td>3.0000e+00</td>\n",
       "      <td>3.2500e+02</td>\n",
       "      <td>1.5000e+01</td>\n",
       "      <td>1.0000e+00</td>\n",
       "      <td>0.0</td>\n",
       "      <td>1.0</td>\n",
       "      <td>1.0000e+00</td>\n",
       "      <td>2.3700e+02</td>\n",
       "    </tr>\n",
       "    <tr>\n",
       "      <th>max</th>\n",
       "      <td>2.3097e+05</td>\n",
       "      <td>3.6834e+07</td>\n",
       "      <td>1.2400e+02</td>\n",
       "      <td>7.0436e+04</td>\n",
       "      <td>5.2780e+03</td>\n",
       "      <td>1.0000e+00</td>\n",
       "      <td>0.0</td>\n",
       "      <td>1.0</td>\n",
       "      <td>1.0000e+00</td>\n",
       "      <td>3.2400e+02</td>\n",
       "    </tr>\n",
       "  </tbody>\n",
       "</table>\n",
       "</div>"
      ],
      "text/plain": [
       "            score  subreddit_subscribers  num_crossposts  num_comments  \\\n",
       "count  2.8801e+06             2.8801e+06      2.8801e+06    2.8801e+06   \n",
       "mean   4.5175e+02             4.0523e+06      1.2871e-01    2.4473e+01   \n",
       "std    3.0700e+03             7.8505e+06      9.4744e-01    2.5526e+02   \n",
       "min    3.0000e+00             3.5352e+05      0.0000e+00    0.0000e+00   \n",
       "0%     3.0000e+00             3.5352e+05      0.0000e+00    0.0000e+00   \n",
       "25%    7.0000e+00             5.3588e+05      0.0000e+00    2.0000e+00   \n",
       "50%    2.2000e+01             9.1814e+05      0.0000e+00    4.0000e+00   \n",
       "75%    7.7000e+01             2.5544e+06      0.0000e+00    1.2000e+01   \n",
       "90%    3.7100e+02             1.5686e+07      0.0000e+00    3.5000e+01   \n",
       "95%    1.2160e+03             2.7497e+07      1.0000e+00    7.5000e+01   \n",
       "99%    9.6784e+03             3.2996e+07      3.0000e+00    3.2500e+02   \n",
       "max    2.3097e+05             3.6834e+07      1.2400e+02    7.0436e+04   \n",
       "\n",
       "       total_awards_received  upvote_ratio  is_created_from_ads_ui  \\\n",
       "count             2.8801e+06    2.8801e+06               2880059.0   \n",
       "mean              8.6548e-01    1.6486e-01                     0.0   \n",
       "std               1.0125e+01    3.7106e-01                     0.0   \n",
       "min               0.0000e+00    0.0000e+00                     0.0   \n",
       "0%                0.0000e+00    0.0000e+00                     0.0   \n",
       "25%               0.0000e+00    0.0000e+00                     0.0   \n",
       "50%               0.0000e+00    0.0000e+00                     0.0   \n",
       "75%               0.0000e+00    0.0000e+00                     0.0   \n",
       "90%               1.0000e+00    1.0000e+00                     0.0   \n",
       "95%               2.0000e+00    1.0000e+00                     0.0   \n",
       "99%               1.5000e+01    1.0000e+00                     0.0   \n",
       "max               5.2780e+03    1.0000e+00                     0.0   \n",
       "\n",
       "       is_thumbnail  is_media_embed  title_length  \n",
       "count     2880059.0      2.8801e+06    2.8801e+06  \n",
       "mean            1.0      9.3709e-01    5.0438e+01  \n",
       "std             0.0      2.4279e-01    4.3260e+01  \n",
       "min             1.0      0.0000e+00    1.0000e+00  \n",
       "0%              1.0      0.0000e+00    1.0000e+00  \n",
       "25%             1.0      1.0000e+00    2.3000e+01  \n",
       "50%             1.0      1.0000e+00    3.8000e+01  \n",
       "75%             1.0      1.0000e+00    6.3000e+01  \n",
       "90%             1.0      1.0000e+00    9.9000e+01  \n",
       "95%             1.0      1.0000e+00    1.3200e+02  \n",
       "99%             1.0      1.0000e+00    2.3700e+02  \n",
       "max             1.0      1.0000e+00    3.2400e+02  "
      ]
     },
     "execution_count": 22,
     "metadata": {},
     "output_type": "execute_result"
    }
   ],
   "source": [
    "df_pd.describe(percentiles=[0, 0.25, 0.5, 0.75, 0.9, 0.95, 0.99])"
   ]
  },
  {
   "cell_type": "markdown",
   "metadata": {},
   "source": [
    "### Summary of the observations in the above table:\n",
    "1. Score primarily varies from $3$ to around $230,000$, with over $90\\%$ of the data being under $371$.\n",
    "2. Subreddit subcribes are significantly higher in magnitude, with a median value of $91,000$.\n",
    "3. Crossposts are largely $0$, even to the $99\\%$ile range.\n",
    "4. Comment interactions are above $4$ only beyond the $50\\%$ mark.\n",
    "5. Awards recieved is strongly tied to the score of the post (higher scores get higher awards, especially at the top, and are likely cases of data leakage.\n",
    "6. The `ads_ui` flag is practically irrelevant.\n",
    "7. All posts have the `thumbnail` flag as `True`, so it is also not helpful in getting noticed.\n",
    "8. Almost $80\\%$ of posts have some form of Media Embedding.\n",
    "9. The title length averages at $38$ characters (in terms of median).\n",
    "\n",
    "As a consequence, the columns `is_thumbnail` and `is_created_from_ads_ui` is dropped."
   ]
  },
  {
   "cell_type": "code",
   "execution_count": 23,
   "metadata": {},
   "outputs": [],
   "source": [
    "df_pd = df_pd.drop(['is_thumbnail', 'is_created_from_ads_ui'], axis=1)"
   ]
  },
  {
   "cell_type": "markdown",
   "metadata": {},
   "source": [
    "## Correlation Plots\n",
    "\n",
    "Just the ol' run-of-the-mill correlation charts."
   ]
  },
  {
   "cell_type": "code",
   "execution_count": 24,
   "metadata": {},
   "outputs": [
    {
     "data": {
      "image/png": "[encoded data removed]",
      "text/plain": [
       "<Figure size 720x720 with 2 Axes>"
      ]
     },
     "metadata": {
      "needs_background": "light"
     },
     "output_type": "display_data"
    }
   ],
   "source": [
    "plt.figure(figsize=(10, 10))\n",
    "sns.heatmap(df_pd.corr(),annot=True,cmap=sns.color_palette(\"Spectral\", as_cmap=True), fmt=\".2f\");"
   ]
  },
  {
   "cell_type": "markdown",
   "metadata": {},
   "source": [
    "#### Observations from the correlation plot:\n",
    "1. The `total_awards_recieved` is, as observed earlier, highly correlated ($0.56$) to the `score`, and is a clear case of data leakage.\n",
    "2. `score` and `num_crossposts` are also correlated ($0.56$), however, they drive each other, and is not as clear a case of data leakage, and can thus still be included in the model.\n",
    "3. `score` is loosely tied to `num_comments` ($0.13$), and has a similar reasoning as `num_crossposts`.\n",
    "4. There is a general negative correlation all \"positive\" measures of popularity (subscriber count, `is_video`, `is_self`, `title_length` etc.) with the adult-content flag, `over_18`, but does not have any linear relationship to `score`.\n",
    "\n",
    "\n",
    "**All in all**, there is no clear linear relationship between the independent variable, the score, to the dependent variables, and therefore, more advanced machine learning techniques need to be utilized to understand some relationship between the two."
   ]
  },
  {
   "cell_type": "markdown",
   "metadata": {},
   "source": [
    "### Adding additional time-based measures\n",
    "\n",
    "The following functions are designed to get specific periods such as the weekday, or hour of the data into a new column from the `datetime` field."
   ]
  },
  {
   "cell_type": "code",
   "execution_count": 25,
   "metadata": {},
   "outputs": [],
   "source": [
    "import calendar\n",
    "def dates(x):\n",
    "    return datetime.strptime(x, '%Y-%m-%d %H:%M:%S')\n",
    "\n",
    "def get_date(date):\n",
    "    return date.split(' ')[0]\n",
    "\n",
    "def get_time(date):\n",
    "    return date.split(' ')[1]\n",
    "\n",
    "def get_weekday(date):\n",
    "    date = datetime.strptime(date, '%Y-%m-%d')\n",
    "    return calendar.day_name[date.weekday()]"
   ]
  },
  {
   "cell_type": "code",
   "execution_count": 26,
   "metadata": {},
   "outputs": [],
   "source": [
    "df_pd['created_timestamp']   = df_pd['created_datetime'].apply(dates)\n",
    "df_pd['created_date']        = df_pd['created_datetime'].apply(get_date)\n",
    "df_pd['created_time']        = df_pd['created_datetime'].apply(get_time)\n",
    "df_pd['created_weekday']     = df_pd['created_date'].apply(get_weekday)\n",
    "df_pd['created_hour_of_day'] = df_pd['created_timestamp'].dt.hour"
   ]
  },
  {
   "cell_type": "markdown",
   "metadata": {},
   "source": [
    "### Plots of categorial variables against the `score`\n",
    "\n",
    "#### Weekday and Time of Day plots"
   ]
  },
  {
   "cell_type": "code",
   "execution_count": 27,
   "metadata": {},
   "outputs": [
    {
     "data": {
      "image/png": "[encoded data removed]",
      "text/plain": [
       "<Figure size 432x288 with 1 Axes>"
      ]
     },
     "metadata": {
      "needs_background": "light"
     },
     "output_type": "display_data"
    }
   ],
   "source": [
    "df_pd.groupby('created_weekday').agg({'score': np.mean}).\\\n",
    "    plot.bar(title=\"Score is loosely related to the day of posting\");"
   ]
  },
  {
   "cell_type": "code",
   "execution_count": 28,
   "metadata": {},
   "outputs": [
    {
     "data": {
      "image/png": "[encoded data removed]",
      "text/plain": [
       "<Figure size 432x288 with 1 Axes>"
      ]
     },
     "metadata": {
      "needs_background": "light"
     },
     "output_type": "display_data"
    }
   ],
   "source": [
    "df_pd.groupby('created_hour_of_day').agg({'score': np.mean}).\\\n",
    "    plot.bar(title=\"Score is strongly related to the hour of posting\");"
   ]
  },
  {
   "cell_type": "code",
   "execution_count": 29,
   "metadata": {},
   "outputs": [
    {
     "data": {
      "image/png": "[encoded data removed]",
      "text/plain": [
       "<Figure size 1080x360 with 2 Axes>"
      ]
     },
     "metadata": {
      "needs_background": "light"
     },
     "output_type": "display_data"
    }
   ],
   "source": [
    "df_pd.groupby('title_length').\\\n",
    "    agg(mean_score=('score', 'mean'),\n",
    "        count_of_title_length=('title_length', 'count')).\\\n",
    "    plot(subplots=True, title=\"Score varies by title length, but is misleading\",\n",
    "         layout=(1, 2), figsize=(15, 5));"
   ]
  },
  {
   "cell_type": "markdown",
   "metadata": {},
   "source": [
    "While it may be easy to conclude that mean score increases by title length, there are far fewer titles with very high title length. To avoid misleading images, a plot for `title_length` values less than $100$ is in order:"
   ]
  },
  {
   "cell_type": "code",
   "execution_count": 30,
   "metadata": {},
   "outputs": [
    {
     "data": {
      "image/png": "[encoded data removed]",
      "text/plain": [
       "<Figure size 1080x360 with 2 Axes>"
      ]
     },
     "metadata": {
      "needs_background": "light"
     },
     "output_type": "display_data"
    }
   ],
   "source": [
    "df_pd[df_pd['title_length'] <= 100.0].groupby('title_length').\\\n",
    "    agg(mean_score=('score', 'mean'),\n",
    "        count_of_title_length=('title_length', 'count')).\\\n",
    "    plot(subplots=True, title=\"Score varies by title length, but is misleading\",\n",
    "         layout=(1, 2), figsize=(15, 5));"
   ]
  },
  {
   "cell_type": "markdown",
   "metadata": {},
   "source": [
    "As can be seen, this view paints a different picture - the score is actually higher on average for lower title counts."
   ]
  },
  {
   "cell_type": "markdown",
   "metadata": {},
   "source": [
    "## Conclusions of exploration\n",
    "\n",
    "From the above analyses, it is clear that treating score as a categorical variable will not yield satisfactory results - the score itself varies widely, with a median of $22$, and a range between $3$ and $230,000$. What can then be done is to create a model for the data that crosses a certain threshold - let's say, the top $50\\%$ of posts, which have a score of $22$, and then bucket the score into specific groups."
   ]
  },
  {
   "cell_type": "code",
   "execution_count": 45,
   "metadata": {},
   "outputs": [],
   "source": [
    "df_pd_fs = df_pd.loc[lambda x:x.score >= 75]"
   ]
  },
  {
   "cell_type": "code",
   "execution_count": 30,
   "metadata": {
    "scrolled": true
   },
   "outputs": [
    {
     "data": {
      "text/plain": [
       "count    735840.0000\n",
       "mean       1710.5949\n",
       "std        5895.7605\n",
       "min          75.0000\n",
       "0%           75.0000\n",
       "25%         121.0000\n",
       "50%         243.0000\n",
       "75%         804.0000\n",
       "90%        3417.0000\n",
       "95%        7649.0000\n",
       "99%       27558.2700\n",
       "max      230972.0000\n",
       "Name: score, dtype: float64"
      ]
     },
     "execution_count": 30,
     "metadata": {},
     "output_type": "execute_result"
    }
   ],
   "source": [
    "#df_pd_fs['log_score_ratio']=np.log10(df_pd_fs['score']/df_pd_fs['subreddit_subscribers'])\n",
    "#sns.histplot(x='log_score_ratio',data=df_pd_fs)\n",
    "df_pd_fs.score.describe(percentiles=[0, 0.25, 0.5, 0.75, 0.9, 0.95, 0.99])"
   ]
  },
  {
   "cell_type": "markdown",
   "metadata": {},
   "source": [
    "Based on the values above, the bins for the score can be created as so:"
   ]
  },
  {
   "cell_type": "code",
   "execution_count": 50,
   "metadata": {},
   "outputs": [
    {
     "name": "stderr",
     "output_type": "stream",
     "text": [
      "/tmp/ipykernel_6060/1719331131.py:2: SettingWithCopyWarning: \n",
      "A value is trying to be set on a copy of a slice from a DataFrame.\n",
      "Try using .loc[row_indexer,col_indexer] = value instead\n",
      "\n",
      "See the caveats in the documentation: https://pandas.pydata.org/pandas-docs/stable/user_guide/indexing.html#returning-a-view-versus-a-copy\n",
      "  df_pd_fs['score_bin'] = pd.cut(\n"
     ]
    }
   ],
   "source": [
    "score_bins = [0, 75, 244, 3426, 1e6]\n",
    "df_pd_fs['score_bin'] = pd.cut(\n",
    "    df_pd_fs['score'], bins=score_bins, labels=['very_low', 'low', 'med', 'high'])"
   ]
  },
  {
   "cell_type": "markdown",
   "metadata": {},
   "source": [
    "### Save final output to disk to reload as PySpark DataFrame"
   ]
  },
  {
   "cell_type": "code",
   "execution_count": 32,
   "metadata": {},
   "outputs": [
    {
     "data": {
      "text/plain": [
       "Index(['author', 'subreddit', 'score', 'subreddit_subscribers', 'over_18',\n",
       "       'num_crossposts', 'is_video', 'num_comments', 'is_self', 'domain',\n",
       "       'is_crosspostable', 'is_original_content', 'total_awards_received',\n",
       "       'upvote_ratio', 'author_flair_background_color', 'created_datetime',\n",
       "       'is_media_embed', 'author_flair', 'title_length', 'created_timestamp',\n",
       "       'created_date', 'created_time', 'created_weekday',\n",
       "       'created_hour_of_day', 'score_bin'],\n",
       "      dtype='object')"
      ]
     },
     "execution_count": 32,
     "metadata": {},
     "output_type": "execute_result"
    }
   ],
   "source": [
    "df_pd_fs.columns"
   ]
  },
  {
   "cell_type": "code",
   "execution_count": 93,
   "metadata": {},
   "outputs": [],
   "source": [
    "selected_cols = ['author', 'subreddit', 'subreddit_subscribers', 'over_18',\n",
    "                 'num_crossposts', 'is_video', 'num_comments', 'is_self',\n",
    "                 'domain', 'author_flair_background_color', 'author_flair',\n",
    "                 'title_length', 'created_weekday', 'created_hour_of_day',\n",
    "                 'score_bin']\n",
    "df_pd_fs.loc[:, selected_cols].to_parquet(\"df_subset_01.parquet\", compression=\"zstd\", index=False)"
   ]
  },
  {
   "cell_type": "code",
   "execution_count": 3,
   "metadata": {},
   "outputs": [
    {
     "name": "stderr",
     "output_type": "stream",
     "text": [
      "                                                                                \r"
     ]
    }
   ],
   "source": [
    "DF_pd_fs = spark.read.parquet(\"df_subset_01.parquet\")"
   ]
  },
  {
   "cell_type": "code",
   "execution_count": 34,
   "metadata": {},
   "outputs": [
    {
     "data": {
      "text/plain": [
       "[('author', 'string'),\n",
       " ('subreddit', 'string'),\n",
       " ('subreddit_subscribers', 'int'),\n",
       " ('over_18', 'boolean'),\n",
       " ('num_crossposts', 'int'),\n",
       " ('is_video', 'boolean'),\n",
       " ('num_comments', 'int'),\n",
       " ('is_self', 'boolean'),\n",
       " ('domain', 'string'),\n",
       " ('author_flair_background_color', 'string'),\n",
       " ('author_flair', 'string'),\n",
       " ('title_length', 'double'),\n",
       " ('created_weekday', 'string'),\n",
       " ('created_hour_of_day', 'bigint'),\n",
       " ('score_bin', 'string')]"
      ]
     },
     "execution_count": 34,
     "metadata": {},
     "output_type": "execute_result"
    }
   ],
   "source": [
    "DF_pd_fs.dtypes"
   ]
  },
  {
   "cell_type": "markdown",
   "metadata": {},
   "source": [
    "# Modelling Using `spark.MLib`\n",
    "\n",
    "## Preparing Data for Ingestion\n",
    "\n",
    "Spark's `MLib` is absolutely sparse on documentation. It cannot handle string data, and so strings have to be \"transformed\" into numeric values. Reference for the following steps: [here](https://towardsdatascience.com/your-first-apache-spark-ml-model-d2bb82b599dd).\n",
    "\n",
    "### `StringIndexer`\n",
    "\n",
    "PySpark has a feature called `StringIndexer`, which encodes the string into numeric values. The reverse can also be performed via `IndexToString`."
   ]
  },
  {
   "cell_type": "code",
   "execution_count": 5,
   "metadata": {
    "scrolled": true
   },
   "outputs": [],
   "source": [
    "from pyspark.ml.feature import StringIndexer\n",
    "\n",
    "str_cols = ['author', 'subreddit', 'domain',\n",
    "            'author_flair_background_color',\n",
    "            'author_flair', 'created_weekday',\n",
    "            'score_bin']\n",
    "\n",
    "DF_pd_fs\n",
    "\n",
    "def Str_Ind(DF, cols, suffix, drop=True):\n",
    "    # Drop any columns not being StringIndexed\n",
    "    if len(DF.columns) - len(cols) > 0:\n",
    "        DF = DF.drop(*list(set(DF.columns) - set(cols)))\n",
    "    DF = StringIndexer(\n",
    "        inputCols=cols, \n",
    "        outputCols=[x+suffix for x in cols],\n",
    "        handleInvalid='keep'\n",
    "    ).fit(DF).transform(DF)\n",
    "    if drop:\n",
    "        return DF.drop(*cols)\n",
    "    else:\n",
    "        return DF"
   ]
  },
  {
   "cell_type": "markdown",
   "metadata": {},
   "source": [
    "### `VectorAssembler`\n",
    "\n",
    "For some godforsaken reason, PySpark also wants the features to be in a single column, stored as a vector of features in each individual row. This is achieved through the following code:"
   ]
  },
  {
   "cell_type": "code",
   "execution_count": 4,
   "metadata": {},
   "outputs": [],
   "source": [
    "from pyspark.ml.feature import VectorAssembler\n",
    "\n",
    "def Vec_Asb(DF, exclude_col, drop=True):\n",
    "    required_cols = [x for x in DF.columns if x != exclude_col]\n",
    "    DF = VectorAssembler(\n",
    "        inputCols=required_cols, \n",
    "        outputCol=\"features\",\n",
    "        handleInvalid='keep'\n",
    "    ).transform(DF)\n",
    "    if drop:\n",
    "        return DF.drop(*required_cols)\n",
    "    else:\n",
    "        return DF"
   ]
  },
  {
   "cell_type": "markdown",
   "metadata": {},
   "source": [
    "### Preparing the Data for modelling and Test-Train Split"
   ]
  },
  {
   "cell_type": "code",
   "execution_count": 6,
   "metadata": {},
   "outputs": [
    {
     "name": "stderr",
     "output_type": "stream",
     "text": [
      "                                                                                \r"
     ]
    }
   ],
   "source": [
    "DF_str = Str_Ind(DF_pd_fs, str_cols, \"_\", True)\n",
    "DF_new = DF_pd_fs.drop(*str_cols).withColumn(\"idx\", monotonically_increasing_id())\n",
    "DF_str = DF_str.withColumn(\"idx\", monotonically_increasing_id())\n",
    "DF_N = DF_str.join(DF_new,DF_str.idx==DF_new.idx,\"inner\")\n",
    "DF_N=DF_N.drop('idx')"
   ]
  },
  {
   "cell_type": "code",
   "execution_count": 7,
   "metadata": {},
   "outputs": [
    {
     "name": "stderr",
     "output_type": "stream",
     "text": [
      "22/03/30 17:58:06 WARN DAGScheduler: Broadcasting large task binary with size 10.9 MiB\n",
      "22/03/30 17:58:07 WARN DAGScheduler: Broadcasting large task binary with size 10.9 MiB\n",
      "[Stage 6:>                                                          (0 + 3) / 3]\r"
     ]
    },
    {
     "name": "stdout",
     "output_type": "stream",
     "text": [
      "+--------+----------+-------+------------------------------+-------------+----------------+----------+---------------------+-------+--------------+--------+------------+-------+------------+-------------------+\n",
      "| author_|subreddit_|domain_|author_flair_background_color_|author_flair_|created_weekday_|score_bin_|subreddit_subscribers|over_18|num_crossposts|is_video|num_comments|is_self|title_length|created_hour_of_day|\n",
      "+--------+----------+-------+------------------------------+-------------+----------------+----------+---------------------+-------+--------------+--------+------------+-------+------------+-------------------+\n",
      "|172655.0|    1092.0|    3.0|                         342.0|          0.0|             6.0|       0.0|               518086|  false|             0|   false|           4|  false|        55.0|                 22|\n",
      "+--------+----------+-------+------------------------------+-------------+----------------+----------+---------------------+-------+--------------+--------+------------+-------+------------+-------------------+\n",
      "only showing top 1 row\n",
      "\n"
     ]
    },
    {
     "name": "stderr",
     "output_type": "stream",
     "text": [
      "                                                                                \r"
     ]
    }
   ],
   "source": [
    "DF_N.show(1)"
   ]
  },
  {
   "cell_type": "code",
   "execution_count": 8,
   "metadata": {},
   "outputs": [],
   "source": [
    "DF_Model = Vec_Asb(DF_N, \"score_bin_\", True)\n",
    "train,test = DF_Model.randomSplit([0.8,0.2])"
   ]
  },
  {
   "cell_type": "markdown",
   "metadata": {},
   "source": [
    "### Creating an evaluation function for statistical models"
   ]
  },
  {
   "cell_type": "code",
   "execution_count": 25,
   "metadata": {},
   "outputs": [],
   "source": [
    "from pyspark.ml.evaluation import MulticlassClassificationEvaluator\n",
    "\n",
    "def eval_multi(pred, label=\"score_bin_\", metric=\"accuracy\"):\n",
    "    evaluator = MulticlassClassificationEvaluator(\n",
    "        labelCol='score_bin_', \n",
    "        predictionCol='prediction', \n",
    "        metricName='accuracy')\n",
    "    accuracy = evaluator.evaluate(pred)\n",
    "    print(f'Test Accuracy = {accuracy:.2%}')"
   ]
  },
  {
   "cell_type": "markdown",
   "metadata": {},
   "source": [
    "## Logistic Regression"
   ]
  },
  {
   "cell_type": "code",
   "execution_count": 100,
   "metadata": {},
   "outputs": [],
   "source": [
    "from pyspark.ml.classification import LogisticRegression"
   ]
  },
  {
   "cell_type": "code",
   "execution_count": 101,
   "metadata": {},
   "outputs": [
    {
     "name": "stderr",
     "output_type": "stream",
     "text": [
      "22/03/30 17:51:23 WARN DAGScheduler: Broadcasting large task binary with size 12.5 MiB\n",
      "22/03/30 17:51:32 WARN DAGScheduler: Broadcasting large task binary with size 12.5 MiB\n",
      "22/03/30 17:51:42 WARN DAGScheduler: Broadcasting large task binary with size 12.5 MiB\n",
      "22/03/30 17:51:44 WARN DAGScheduler: Broadcasting large task binary with size 12.5 MiB\n",
      "22/03/30 17:51:45 WARN DAGScheduler: Broadcasting large task binary with size 12.5 MiB\n",
      "22/03/30 17:51:46 WARN DAGScheduler: Broadcasting large task binary with size 12.5 MiB\n",
      "22/03/30 17:51:48 WARN DAGScheduler: Broadcasting large task binary with size 12.5 MiB\n",
      "22/03/30 17:51:49 WARN DAGScheduler: Broadcasting large task binary with size 12.5 MiB\n",
      "22/03/30 17:51:51 WARN DAGScheduler: Broadcasting large task binary with size 12.5 MiB\n",
      "22/03/30 17:51:52 WARN DAGScheduler: Broadcasting large task binary with size 12.5 MiB\n",
      "22/03/30 17:51:54 WARN DAGScheduler: Broadcasting large task binary with size 12.5 MiB\n",
      "22/03/30 17:51:56 WARN DAGScheduler: Broadcasting large task binary with size 12.5 MiB\n",
      "22/03/30 17:51:57 WARN DAGScheduler: Broadcasting large task binary with size 12.5 MiB\n",
      "22/03/30 17:51:59 WARN DAGScheduler: Broadcasting large task binary with size 12.5 MiB\n",
      "22/03/30 17:52:00 WARN DAGScheduler: Broadcasting large task binary with size 12.5 MiB\n",
      "22/03/30 17:52:02 WARN DAGScheduler: Broadcasting large task binary with size 12.5 MiB\n",
      "22/03/30 17:52:03 WARN DAGScheduler: Broadcasting large task binary with size 12.5 MiB\n",
      "22/03/30 17:52:04 WARN DAGScheduler: Broadcasting large task binary with size 12.5 MiB\n",
      "22/03/30 17:52:06 WARN DAGScheduler: Broadcasting large task binary with size 12.5 MiB\n",
      "22/03/30 17:52:07 WARN DAGScheduler: Broadcasting large task binary with size 12.5 MiB\n",
      "22/03/30 17:52:09 WARN DAGScheduler: Broadcasting large task binary with size 12.5 MiB\n",
      "22/03/30 17:52:10 WARN DAGScheduler: Broadcasting large task binary with size 12.5 MiB\n",
      "22/03/30 17:52:12 WARN DAGScheduler: Broadcasting large task binary with size 12.5 MiB\n",
      "22/03/30 17:52:13 WARN DAGScheduler: Broadcasting large task binary with size 12.5 MiB\n",
      "22/03/30 17:52:15 WARN DAGScheduler: Broadcasting large task binary with size 12.5 MiB\n",
      "22/03/30 17:52:16 WARN DAGScheduler: Broadcasting large task binary with size 12.5 MiB\n",
      "22/03/30 17:52:17 WARN DAGScheduler: Broadcasting large task binary with size 12.5 MiB\n",
      "22/03/30 17:52:18 WARN DAGScheduler: Broadcasting large task binary with size 12.5 MiB\n",
      "22/03/30 17:52:20 WARN DAGScheduler: Broadcasting large task binary with size 12.5 MiB\n",
      "22/03/30 17:52:21 WARN DAGScheduler: Broadcasting large task binary with size 12.5 MiB\n",
      "22/03/30 17:52:22 WARN DAGScheduler: Broadcasting large task binary with size 12.5 MiB\n",
      "22/03/30 17:52:24 WARN DAGScheduler: Broadcasting large task binary with size 12.5 MiB\n",
      "22/03/30 17:52:26 WARN DAGScheduler: Broadcasting large task binary with size 12.5 MiB\n",
      "22/03/30 17:52:27 WARN DAGScheduler: Broadcasting large task binary with size 12.5 MiB\n",
      "22/03/30 17:52:28 WARN DAGScheduler: Broadcasting large task binary with size 12.5 MiB\n",
      "22/03/30 17:52:30 WARN DAGScheduler: Broadcasting large task binary with size 12.5 MiB\n",
      "22/03/30 17:52:31 WARN DAGScheduler: Broadcasting large task binary with size 12.5 MiB\n",
      "22/03/30 17:52:33 WARN DAGScheduler: Broadcasting large task binary with size 12.5 MiB\n",
      "22/03/30 17:52:34 WARN DAGScheduler: Broadcasting large task binary with size 12.5 MiB\n",
      "22/03/30 17:52:35 WARN DAGScheduler: Broadcasting large task binary with size 12.5 MiB\n",
      "22/03/30 17:52:37 WARN DAGScheduler: Broadcasting large task binary with size 12.5 MiB\n",
      "22/03/30 17:52:38 WARN DAGScheduler: Broadcasting large task binary with size 12.5 MiB\n",
      "22/03/30 17:52:40 WARN DAGScheduler: Broadcasting large task binary with size 12.5 MiB\n",
      "22/03/30 17:52:41 WARN DAGScheduler: Broadcasting large task binary with size 12.5 MiB\n",
      "22/03/30 17:52:43 WARN DAGScheduler: Broadcasting large task binary with size 12.5 MiB\n",
      "22/03/30 17:52:45 WARN DAGScheduler: Broadcasting large task binary with size 12.5 MiB\n",
      "22/03/30 17:52:46 WARN DAGScheduler: Broadcasting large task binary with size 12.5 MiB\n",
      "22/03/30 17:52:48 WARN DAGScheduler: Broadcasting large task binary with size 12.5 MiB\n",
      "22/03/30 17:52:49 WARN DAGScheduler: Broadcasting large task binary with size 12.5 MiB\n",
      "22/03/30 17:52:50 WARN DAGScheduler: Broadcasting large task binary with size 12.5 MiB\n",
      "22/03/30 17:52:51 WARN DAGScheduler: Broadcasting large task binary with size 12.5 MiB\n",
      "22/03/30 17:52:53 WARN DAGScheduler: Broadcasting large task binary with size 12.5 MiB\n",
      "22/03/30 17:52:55 WARN DAGScheduler: Broadcasting large task binary with size 12.5 MiB\n",
      "22/03/30 17:52:56 WARN DAGScheduler: Broadcasting large task binary with size 12.5 MiB\n",
      "22/03/30 17:52:57 WARN DAGScheduler: Broadcasting large task binary with size 12.5 MiB\n",
      "22/03/30 17:52:58 WARN DAGScheduler: Broadcasting large task binary with size 12.5 MiB\n",
      "22/03/30 17:53:00 WARN DAGScheduler: Broadcasting large task binary with size 12.5 MiB\n",
      "22/03/30 17:53:01 WARN DAGScheduler: Broadcasting large task binary with size 12.5 MiB\n",
      "22/03/30 17:53:03 WARN DAGScheduler: Broadcasting large task binary with size 12.5 MiB\n",
      "22/03/30 17:53:04 WARN DAGScheduler: Broadcasting large task binary with size 12.5 MiB\n",
      "22/03/30 17:53:05 WARN DAGScheduler: Broadcasting large task binary with size 12.5 MiB\n",
      "22/03/30 17:53:07 WARN DAGScheduler: Broadcasting large task binary with size 12.5 MiB\n",
      "22/03/30 17:53:08 WARN DAGScheduler: Broadcasting large task binary with size 12.5 MiB\n",
      "22/03/30 17:53:09 WARN DAGScheduler: Broadcasting large task binary with size 12.5 MiB\n",
      "22/03/30 17:53:10 WARN DAGScheduler: Broadcasting large task binary with size 12.5 MiB\n",
      "22/03/30 17:53:12 WARN DAGScheduler: Broadcasting large task binary with size 12.5 MiB\n",
      "22/03/30 17:53:13 WARN DAGScheduler: Broadcasting large task binary with size 12.5 MiB\n",
      "22/03/30 17:53:15 WARN DAGScheduler: Broadcasting large task binary with size 12.5 MiB\n",
      "22/03/30 17:53:16 WARN DAGScheduler: Broadcasting large task binary with size 12.5 MiB\n",
      "22/03/30 17:53:18 WARN DAGScheduler: Broadcasting large task binary with size 12.5 MiB\n",
      "22/03/30 17:53:19 WARN DAGScheduler: Broadcasting large task binary with size 12.5 MiB\n",
      "22/03/30 17:53:20 WARN DAGScheduler: Broadcasting large task binary with size 12.5 MiB\n",
      "22/03/30 17:53:22 WARN DAGScheduler: Broadcasting large task binary with size 12.5 MiB\n",
      "22/03/30 17:53:23 WARN DAGScheduler: Broadcasting large task binary with size 12.5 MiB\n",
      "22/03/30 17:53:25 WARN DAGScheduler: Broadcasting large task binary with size 12.5 MiB\n",
      "22/03/30 17:53:26 WARN DAGScheduler: Broadcasting large task binary with size 12.5 MiB\n",
      "22/03/30 17:53:28 WARN DAGScheduler: Broadcasting large task binary with size 12.5 MiB\n",
      "22/03/30 17:53:29 WARN DAGScheduler: Broadcasting large task binary with size 12.5 MiB\n",
      "22/03/30 17:53:31 WARN DAGScheduler: Broadcasting large task binary with size 12.5 MiB\n",
      "22/03/30 17:53:32 WARN DAGScheduler: Broadcasting large task binary with size 12.5 MiB\n",
      "22/03/30 17:53:34 WARN DAGScheduler: Broadcasting large task binary with size 12.5 MiB\n",
      "22/03/30 17:53:35 WARN DAGScheduler: Broadcasting large task binary with size 12.5 MiB\n",
      "22/03/30 17:53:37 WARN DAGScheduler: Broadcasting large task binary with size 12.5 MiB\n",
      "22/03/30 17:53:38 WARN DAGScheduler: Broadcasting large task binary with size 12.5 MiB\n",
      "22/03/30 17:53:39 WARN DAGScheduler: Broadcasting large task binary with size 12.5 MiB\n",
      "22/03/30 17:53:41 WARN DAGScheduler: Broadcasting large task binary with size 12.5 MiB\n",
      "22/03/30 17:53:42 WARN DAGScheduler: Broadcasting large task binary with size 12.5 MiB\n",
      "22/03/30 17:53:44 WARN DAGScheduler: Broadcasting large task binary with size 12.5 MiB\n",
      "22/03/30 17:53:45 WARN DAGScheduler: Broadcasting large task binary with size 12.5 MiB\n",
      "22/03/30 17:53:47 WARN DAGScheduler: Broadcasting large task binary with size 12.5 MiB\n",
      "22/03/30 17:53:48 WARN DAGScheduler: Broadcasting large task binary with size 12.5 MiB\n",
      "22/03/30 17:53:50 WARN DAGScheduler: Broadcasting large task binary with size 12.5 MiB\n",
      "22/03/30 17:53:52 WARN DAGScheduler: Broadcasting large task binary with size 12.5 MiB\n",
      "22/03/30 17:53:53 WARN DAGScheduler: Broadcasting large task binary with size 12.5 MiB\n",
      "22/03/30 17:53:55 WARN DAGScheduler: Broadcasting large task binary with size 12.5 MiB\n",
      "22/03/30 17:53:56 WARN DAGScheduler: Broadcasting large task binary with size 12.5 MiB\n",
      "22/03/30 17:53:57 WARN DAGScheduler: Broadcasting large task binary with size 12.5 MiB\n",
      "22/03/30 17:53:59 WARN DAGScheduler: Broadcasting large task binary with size 12.5 MiB\n",
      "22/03/30 17:54:00 WARN DAGScheduler: Broadcasting large task binary with size 12.5 MiB\n",
      "22/03/30 17:54:01 WARN DAGScheduler: Broadcasting large task binary with size 12.5 MiB\n",
      "22/03/30 17:54:02 WARN DAGScheduler: Broadcasting large task binary with size 12.5 MiB\n",
      "22/03/30 17:54:04 WARN DAGScheduler: Broadcasting large task binary with size 12.5 MiB\n",
      "22/03/30 17:54:05 WARN DAGScheduler: Broadcasting large task binary with size 12.5 MiB\n",
      "22/03/30 17:54:06 WARN DAGScheduler: Broadcasting large task binary with size 12.5 MiB\n",
      "22/03/30 17:54:08 WARN DAGScheduler: Broadcasting large task binary with size 12.5 MiB\n",
      "22/03/30 17:54:09 WARN DAGScheduler: Broadcasting large task binary with size 12.5 MiB\n",
      "22/03/30 17:54:11 WARN DAGScheduler: Broadcasting large task binary with size 12.5 MiB\n",
      "                                                                                \r"
     ]
    }
   ],
   "source": [
    "lr = LogisticRegression(\n",
    "    maxIter=50, regParam=0.3, elasticNetParam=0.8,\n",
    "    featuresCol='features', labelCol='score_bin_')\n",
    "lrModel = lr.fit(train)"
   ]
  },
  {
   "cell_type": "markdown",
   "metadata": {},
   "source": [
    "### Logistic Regression Evaluation"
   ]
  },
  {
   "cell_type": "code",
   "execution_count": 103,
   "metadata": {},
   "outputs": [],
   "source": [
    "pred = lrModel.transform(test)"
   ]
  },
  {
   "cell_type": "code",
   "execution_count": 104,
   "metadata": {},
   "outputs": [
    {
     "name": "stderr",
     "output_type": "stream",
     "text": [
      "22/03/30 17:54:51 WARN DAGScheduler: Broadcasting large task binary with size 12.6 MiB\n",
      "[Stage 379:==========================================>              (3 + 1) / 4]\r"
     ]
    },
    {
     "name": "stdout",
     "output_type": "stream",
     "text": [
      "Test Accuracy = 49.51%\n"
     ]
    },
    {
     "name": "stderr",
     "output_type": "stream",
     "text": [
      "                                                                                \r"
     ]
    }
   ],
   "source": [
    "eval_multi(pred)"
   ]
  },
  {
   "cell_type": "markdown",
   "metadata": {},
   "source": [
    "## NaiveBayes Classifier\n"
   ]
  },
  {
   "cell_type": "code",
   "execution_count": 96,
   "metadata": {},
   "outputs": [],
   "source": [
    "from pyspark.ml.classification import NaiveBayes"
   ]
  },
  {
   "cell_type": "markdown",
   "metadata": {},
   "source": [
    "**_Create the NaiveBayes Model, using a smoothing of $100$ in an attempt to offset the lack of multiple records by all authors._**"
   ]
  },
  {
   "cell_type": "code",
   "execution_count": 97,
   "metadata": {},
   "outputs": [
    {
     "name": "stderr",
     "output_type": "stream",
     "text": [
      "22/03/30 17:50:45 WARN DAGScheduler: Broadcasting large task binary with size 12.5 MiB\n",
      "22/03/30 17:50:55 WARN DAGScheduler: Broadcasting large task binary with size 12.5 MiB\n",
      "                                                                                \r"
     ]
    }
   ],
   "source": [
    "nb = NaiveBayes(labelCol=\"score_bin_\", featuresCol=\"features\", smoothing=100, modelType=\"multinomial\")\n",
    "nb_Model = nb.fit(train)"
   ]
  },
  {
   "cell_type": "markdown",
   "metadata": {},
   "source": [
    "### NaiveBayes Classifier Evaluation"
   ]
  },
  {
   "cell_type": "code",
   "execution_count": 98,
   "metadata": {
    "scrolled": true
   },
   "outputs": [
    {
     "name": "stderr",
     "output_type": "stream",
     "text": [
      "22/03/30 17:51:00 WARN DAGScheduler: Broadcasting large task binary with size 12.6 MiB\n",
      "[Stage 263:==========================================>              (3 + 1) / 4]\r"
     ]
    },
    {
     "name": "stdout",
     "output_type": "stream",
     "text": [
      "Test Accuracy = 25.53%\n"
     ]
    },
    {
     "name": "stderr",
     "output_type": "stream",
     "text": [
      "                                                                                \r"
     ]
    }
   ],
   "source": [
    "pred = nb_Model.transform(test)\n",
    "eval_multi(pred)"
   ]
  },
  {
   "cell_type": "markdown",
   "metadata": {},
   "source": [
    "## Feed Forward Neural Net "
   ]
  },
  {
   "cell_type": "code",
   "execution_count": 26,
   "metadata": {},
   "outputs": [],
   "source": [
    "from pyspark.ml.classification import MultilayerPerceptronClassifier"
   ]
  },
  {
   "cell_type": "code",
   "execution_count": 27,
   "metadata": {},
   "outputs": [
    {
     "name": "stderr",
     "output_type": "stream",
     "text": [
      "22/03/30 18:09:21 WARN DAGScheduler: Broadcasting large task binary with size 12.6 MiB\n",
      "22/03/30 18:09:30 WARN DAGScheduler: Broadcasting large task binary with size 12.6 MiB\n",
      "22/03/30 18:09:31 WARN InstanceBuilder$NativeBLAS: Failed to load implementation from:dev.ludovic.netlib.blas.JNIBLAS\n",
      "22/03/30 18:09:31 WARN InstanceBuilder$NativeBLAS: Failed to load implementation from:dev.ludovic.netlib.blas.ForeignLinkerBLAS\n",
      "22/03/30 18:09:33 WARN DAGScheduler: Broadcasting large task binary with size 12.6 MiB\n",
      "22/03/30 18:09:35 WARN DAGScheduler: Broadcasting large task binary with size 12.6 MiB\n",
      "22/03/30 18:09:36 WARN DAGScheduler: Broadcasting large task binary with size 12.6 MiB\n",
      "22/03/30 18:09:38 WARN DAGScheduler: Broadcasting large task binary with size 12.6 MiB\n",
      "22/03/30 18:09:39 WARN DAGScheduler: Broadcasting large task binary with size 12.6 MiB\n",
      "22/03/30 18:09:40 WARN DAGScheduler: Broadcasting large task binary with size 12.6 MiB\n",
      "22/03/30 18:09:42 WARN DAGScheduler: Broadcasting large task binary with size 12.6 MiB\n",
      "22/03/30 18:09:43 WARN DAGScheduler: Broadcasting large task binary with size 12.6 MiB\n",
      "22/03/30 18:09:45 WARN DAGScheduler: Broadcasting large task binary with size 12.6 MiB\n",
      "22/03/30 18:09:46 WARN DAGScheduler: Broadcasting large task binary with size 12.6 MiB\n",
      "22/03/30 18:09:48 WARN DAGScheduler: Broadcasting large task binary with size 12.6 MiB\n",
      "22/03/30 18:09:49 WARN DAGScheduler: Broadcasting large task binary with size 12.6 MiB\n",
      "22/03/30 18:09:51 WARN DAGScheduler: Broadcasting large task binary with size 12.6 MiB\n",
      "22/03/30 18:09:52 WARN DAGScheduler: Broadcasting large task binary with size 12.6 MiB\n",
      "22/03/30 18:09:54 WARN DAGScheduler: Broadcasting large task binary with size 12.6 MiB\n",
      "22/03/30 18:09:55 WARN DAGScheduler: Broadcasting large task binary with size 12.6 MiB\n",
      "22/03/30 18:09:56 WARN DAGScheduler: Broadcasting large task binary with size 12.6 MiB\n",
      "22/03/30 18:09:58 WARN DAGScheduler: Broadcasting large task binary with size 12.6 MiB\n",
      "22/03/30 18:09:59 WARN DAGScheduler: Broadcasting large task binary with size 12.6 MiB\n",
      "22/03/30 18:10:01 WARN DAGScheduler: Broadcasting large task binary with size 12.6 MiB\n",
      "22/03/30 18:10:02 WARN DAGScheduler: Broadcasting large task binary with size 12.6 MiB\n",
      "22/03/30 18:10:04 WARN DAGScheduler: Broadcasting large task binary with size 12.6 MiB\n",
      "22/03/30 18:10:05 WARN DAGScheduler: Broadcasting large task binary with size 12.6 MiB\n",
      "22/03/30 18:10:07 WARN DAGScheduler: Broadcasting large task binary with size 12.6 MiB\n",
      "22/03/30 18:10:08 WARN DAGScheduler: Broadcasting large task binary with size 12.6 MiB\n",
      "22/03/30 18:10:10 WARN DAGScheduler: Broadcasting large task binary with size 12.6 MiB\n",
      "22/03/30 18:10:11 WARN DAGScheduler: Broadcasting large task binary with size 12.6 MiB\n",
      "22/03/30 18:10:12 WARN DAGScheduler: Broadcasting large task binary with size 12.6 MiB\n",
      "22/03/30 18:10:14 WARN DAGScheduler: Broadcasting large task binary with size 12.6 MiB\n",
      "22/03/30 18:10:15 WARN DAGScheduler: Broadcasting large task binary with size 12.6 MiB\n",
      "22/03/30 18:10:17 WARN DAGScheduler: Broadcasting large task binary with size 12.6 MiB\n",
      "22/03/30 18:10:18 WARN DAGScheduler: Broadcasting large task binary with size 12.6 MiB\n",
      "22/03/30 18:10:20 WARN DAGScheduler: Broadcasting large task binary with size 12.6 MiB\n",
      "22/03/30 18:10:21 WARN DAGScheduler: Broadcasting large task binary with size 12.6 MiB\n",
      "22/03/30 18:10:22 WARN DAGScheduler: Broadcasting large task binary with size 12.6 MiB\n",
      "22/03/30 18:10:24 WARN DAGScheduler: Broadcasting large task binary with size 12.6 MiB\n",
      "22/03/30 18:10:25 WARN DAGScheduler: Broadcasting large task binary with size 12.6 MiB\n",
      "22/03/30 18:10:27 WARN DAGScheduler: Broadcasting large task binary with size 12.6 MiB\n",
      "22/03/30 18:10:28 WARN DAGScheduler: Broadcasting large task binary with size 12.6 MiB\n",
      "22/03/30 18:10:30 WARN DAGScheduler: Broadcasting large task binary with size 12.6 MiB\n",
      "22/03/30 18:10:31 WARN DAGScheduler: Broadcasting large task binary with size 12.6 MiB\n",
      "22/03/30 18:10:33 WARN DAGScheduler: Broadcasting large task binary with size 12.6 MiB\n",
      "22/03/30 18:10:34 WARN DAGScheduler: Broadcasting large task binary with size 12.6 MiB\n",
      "22/03/30 18:10:36 WARN DAGScheduler: Broadcasting large task binary with size 12.6 MiB\n",
      "22/03/30 18:10:37 WARN DAGScheduler: Broadcasting large task binary with size 12.6 MiB\n",
      "22/03/30 18:10:39 WARN DAGScheduler: Broadcasting large task binary with size 12.6 MiB\n",
      "22/03/30 18:10:40 WARN DAGScheduler: Broadcasting large task binary with size 12.6 MiB\n",
      "22/03/30 18:10:41 WARN DAGScheduler: Broadcasting large task binary with size 12.6 MiB\n",
      "                                                                                \r"
     ]
    }
   ],
   "source": [
    "layers = [14, 5, 4, 5]\n",
    "trainer = MultilayerPerceptronClassifier(maxIter=100, layers=layers, seed=1234,featuresCol='features',labelCol='score_bin_')\n",
    "\n",
    "# train the model\n",
    "nn_model = trainer.fit(train)"
   ]
  },
  {
   "cell_type": "code",
   "execution_count": 29,
   "metadata": {},
   "outputs": [
    {
     "name": "stderr",
     "output_type": "stream",
     "text": [
      "22/03/30 18:10:59 WARN DAGScheduler: Broadcasting large task binary with size 12.6 MiB\n",
      "[Stage 94:===========================================>              (3 + 1) / 4]\r"
     ]
    },
    {
     "name": "stdout",
     "output_type": "stream",
     "text": [
      "Test Accuracy = 49.53%\n"
     ]
    },
    {
     "name": "stderr",
     "output_type": "stream",
     "text": [
      "                                                                                \r"
     ]
    }
   ],
   "source": [
    "pred = nn_model.transform(test)\n",
    "eval_multi(pred)"
   ]
  },
  {
   "cell_type": "markdown",
   "metadata": {},
   "source": [
    "## Random Forest Classifier"
   ]
  },
  {
   "cell_type": "code",
   "execution_count": 189,
   "metadata": {},
   "outputs": [
    {
     "name": "stderr",
     "output_type": "stream",
     "text": [
      "                                                                                \r"
     ]
    }
   ],
   "source": [
    "DF = Str_Ind(DF_pd_fs, [x for x in str_cols if x not in ['author', 'domain']], \"_\", True)\n",
    "DF = Vec_Asb(DF, \"score_bin_\", True)\n",
    "train,test = DF.randomSplit([0.8,0.2])"
   ]
  },
  {
   "cell_type": "code",
   "execution_count": 54,
   "metadata": {},
   "outputs": [],
   "source": [
    "from pyspark.ml.classification import RandomForestClassifier \n",
    "rf = RandomForestClassifier(labelCol=\"score_bin_\", featuresCol=\"features\", numTrees=100, maxBins=1364)"
   ]
  },
  {
   "cell_type": "markdown",
   "metadata": {},
   "source": [
    "Run the RandomForest model. This takes around an hour or more."
   ]
  },
  {
   "cell_type": "markdown",
   "metadata": {},
   "source": [
    "from pyspark.ml.classification import RandomForestClassifier\n",
    "rf = RandomForestClassifier(labelCol=\"score_bin_\", featuresCol=\"features\", numTrees=100, maxBins=1364)\n",
    "rf_Model = rf.fit(train)"
   ]
  },
  {
   "cell_type": "code",
   "execution_count": 202,
   "metadata": {},
   "outputs": [],
   "source": [
    "rf_Model.save(\"rf.model\")"
   ]
  },
  {
   "cell_type": "code",
   "execution_count": 76,
   "metadata": {},
   "outputs": [],
   "source": [
    "# rfeg = RandomForestClassifier.load(\"rf.model\")"
   ]
  },
  {
   "cell_type": "markdown",
   "metadata": {},
   "source": [
    "Accuracy isn't much better than a random guess model."
   ]
  },
  {
   "cell_type": "code",
   "execution_count": 222,
   "metadata": {},
   "outputs": [
    {
     "name": "stderr",
     "output_type": "stream",
     "text": [
      "22/03/24 05:59:39 WARN DAGScheduler: Broadcasting large task binary with size 4.7 MiB\n",
      "[Stage 416:==========================================>              (3 + 1) / 4]\r"
     ]
    },
    {
     "name": "stdout",
     "output_type": "stream",
     "text": [
      "Test Accuracy = 50.41%\n"
     ]
    },
    {
     "name": "stderr",
     "output_type": "stream",
     "text": [
      "                                                                                \r"
     ]
    }
   ],
   "source": [
    "pred = rf_Model.transform(test)\n",
    "eval_multi(pred)"
   ]
  }
 ],
 "metadata": {
  "kernelspec": {
   "display_name": "Python 3",
   "language": "python",
   "name": "python3"
  },
  "language_info": {
   "codemirror_mode": {
    "name": "ipython",
    "version": 3
   },
   "file_extension": ".py",
   "mimetype": "text/x-python",
   "name": "python",
   "nbconvert_exporter": "python",
   "pygments_lexer": "ipython3",
   "version": "3.8.5"
  }
 },
 "nbformat": 4,
 "nbformat_minor": 5
}
